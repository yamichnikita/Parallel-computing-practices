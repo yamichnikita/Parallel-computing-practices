{
  "nbformat": 4,
  "nbformat_minor": 0,
  "metadata": {
    "colab": {
      "provenance": [],
      "collapsed_sections": [
        "egqHsGC8s2DP",
        "YuWkPPlfs51t",
        "RGGVb6-xs_DC",
        "OhFTsRQ97sgf",
        "q-TuWIee9YLW",
        "29sWIDthC0fC",
        "9GQp2jrMR12j",
        "Vtx7JSEzR9Ax",
        "lXq7CeLJW5cQ"
      ]
    },
    "kernelspec": {
      "name": "python3",
      "display_name": "Python 3"
    },
    "language_info": {
      "name": "python"
    }
  },
  "cells": [
    {
      "cell_type": "code",
      "source": [
        "%%bash\n",
        "apt-get install openjdk-17-jdk-headless -qq > /dev/null"
      ],
      "metadata": {
        "id": "LDkiqT_uaSq4"
      },
      "execution_count": 1,
      "outputs": []
    },
    {
      "cell_type": "code",
      "source": [
        "%%bash\n",
        "wget -q https://archive.apache.org/dist/spark/spark-3.3.0/spark-3.3.0-bin-hadoop3.tgz\n",
        "tar xf spark-3.3.0-bin-hadoop3.tgz"
      ],
      "metadata": {
        "id": "yA46fkLLaUE3"
      },
      "execution_count": 2,
      "outputs": []
    },
    {
      "cell_type": "code",
      "source": [
        "import os\n",
        "os.environ['JAVA_HOME']='/usr/lib/jvm/java-1.17.0-openjdk-amd64'\n",
        "os.environ['SPARK_HOME']='/content/spark-3.3.0-bin-hadoop3'"
      ],
      "metadata": {
        "id": "tMPhRyfEaYbf"
      },
      "execution_count": 3,
      "outputs": []
    },
    {
      "cell_type": "code",
      "source": [
        "%%bash\n",
        "pip install findspark"
      ],
      "metadata": {
        "colab": {
          "base_uri": "https://localhost:8080/"
        },
        "id": "8YDYdx2LabFO",
        "outputId": "9153457f-8e8a-44dd-faa1-d9cff5ec8e6b"
      },
      "execution_count": 4,
      "outputs": [
        {
          "output_type": "stream",
          "name": "stdout",
          "text": [
            "Requirement already satisfied: findspark in /usr/local/lib/python3.10/dist-packages (2.0.1)\n"
          ]
        }
      ]
    },
    {
      "cell_type": "code",
      "source": [
        "import findspark\n",
        "findspark.init()"
      ],
      "metadata": {
        "id": "IpedO5a3VncF"
      },
      "execution_count": 5,
      "outputs": []
    },
    {
      "cell_type": "code",
      "execution_count": 6,
      "metadata": {
        "id": "Tv5X3IT5WSzb"
      },
      "outputs": [],
      "source": [
        "from pyspark.sql import SparkSession\n",
        "from pyspark.sql import functions as F\n",
        "from pyspark.ml.feature import VectorAssembler\n",
        "from pyspark.ml.classification import LogisticRegression,DecisionTreeClassifier,RandomForestClassifier"
      ]
    },
    {
      "cell_type": "code",
      "source": [
        "from google.colab import drive\n",
        "drive.mount('/content/gdrive')"
      ],
      "metadata": {
        "colab": {
          "base_uri": "https://localhost:8080/"
        },
        "id": "9MMBBmQxW-3g",
        "outputId": "6e045c55-2123-453e-e3b6-6b05dcd62612"
      },
      "execution_count": 7,
      "outputs": [
        {
          "output_type": "stream",
          "name": "stdout",
          "text": [
            "Drive already mounted at /content/gdrive; to attempt to forcibly remount, call drive.mount(\"/content/gdrive\", force_remount=True).\n"
          ]
        }
      ]
    },
    {
      "cell_type": "markdown",
      "source": [
        "#### Программа А"
      ],
      "metadata": {
        "id": "egqHsGC8s2DP"
      }
    },
    {
      "cell_type": "code",
      "source": [
        "spark = SparkSession.builder\\\n",
        "    .master('local')\\\n",
        "    .appName(\"My Spark Session\").getOrCreate()\n",
        "df = spark.read.csv(r\"/content/gdrive/MyDrive/brooklyn_sales_map.csv\",header=True)\n",
        "df.show()"
      ],
      "metadata": {
        "id": "YXrzOlHqbvWW",
        "colab": {
          "base_uri": "https://localhost:8080/"
        },
        "outputId": "e9cc7f46-c59d-4331-a4ea-7f077d7deb6a"
      },
      "execution_count": null,
      "outputs": [
        {
          "output_type": "stream",
          "name": "stdout",
          "text": [
            "+---+--------+--------------------+-----------------------+---------+-----+----+--------+--------------+--------------------+----------------+--------+-----------------+----------------+-----------+---------+----------+----------+-----------------+----------------------+----------+----------+------------+---------+---+------+------+----------+-------+-------+--------+----------+----------+----------+---------+----------+--------+-------------------+---------+---------+---------+---------+--------+--------+-------+-------+-------+---------+---------+---------+-------+---------+---------+--------------------+-------+--------+-------+-------+----------+----------+----------+---------+----------+---------+----------+--------+---------+--------+----------+--------+--------+---------+---------+---+--------+----------+-------+--------+----------+---------+----------+---------+---------+----------+----------+--------------------+--------+--------+--------+-------+--------+--------+----------+-------+---------+-------+------+-------+------+-------+------+---------+----------+----------+----------+----------+----------+-------+----------+-------------+-------------+\n",
            "|_c0|borough1|        neighborhood|building_class_category|tax_class|block| lot|easement|building_class|            address9|apartment_number|zip_code|residential_units|commercial_units|total_units|land_sqft|gross_sqft|year_built|tax_class_at_sale|building_class_at_sale|sale_price| sale_date|year_of_sale|Borough23| CD|CT2010|CB2010|SchoolDist|Council|ZipCode|FireComp|PolicePrct|HealthCent|HealthArea|SanitBoro|SanitDistr|SanitSub|          Address37|ZoneDist1|ZoneDist2|ZoneDist3|ZoneDist4|Overlay1|Overlay2|SPDist1|SPDist2|SPDist3|LtdHeight|SplitZone|BldgClass|LandUse|Easements|OwnerType|           OwnerName|LotArea|BldgArea|ComArea|ResArea|OfficeArea|RetailArea|GarageArea|StrgeArea|FactryArea|OtherArea|AreaSource|NumBldgs|NumFloors|UnitsRes|UnitsTotal|LotFront|LotDepth|BldgFront|BldgDepth|Ext|ProxCode|IrrLotCode|LotType|BsmtCode|AssessLand|AssessTot|ExemptLand|ExemptTot|YearBuilt|YearAlter1|YearAlter2|            HistDist|Landmark|BuiltFAR|ResidFAR|CommFAR|FacilFAR|BoroCode|       BBL|CondoNo|Tract2010| XCoord|YCoord|ZoneMap|ZMCode|Sanborn|TaxMap|EDesigNum|    APPBBL|   APPDate|PLUTOMapID|FIRM07_FLA|PFIRM15_FL|Version|MAPPLUTO_F|   SHAPE_Leng|   SHAPE_Area|\n",
            "+---+--------+--------------------+-----------------------+---------+-----+----+--------+--------------+--------------------+----------------+--------+-----------------+----------------+-----------+---------+----------+----------+-----------------+----------------------+----------+----------+------------+---------+---+------+------+----------+-------+-------+--------+----------+----------+----------+---------+----------+--------+-------------------+---------+---------+---------+---------+--------+--------+-------+-------+-------+---------+---------+---------+-------+---------+---------+--------------------+-------+--------+-------+-------+----------+----------+----------+---------+----------+---------+----------+--------+---------+--------+----------+--------+--------+---------+---------+---+--------+----------+-------+--------+----------+---------+----------+---------+---------+----------+----------+--------------------+--------+--------+--------+-------+--------+--------+----------+-------+---------+-------+------+-------+------+-------+------+---------+----------+----------+----------+----------+----------+-------+----------+-------------+-------------+\n",
            "|  1|       3|  DOWNTOWN-METROTECH|   28  COMMERCIAL CO...|        4|  140|1001|    null|            R5|      330 JAY STREET|           COURT|   11201|                0|               1|          1|        0|         0|      2002|                4|                    R5| 499401179|2008-04-23|        2008|       NA| NA|    NA|    NA|        NA|     NA|     NA|      NA|        NA|        NA|        NA|       NA|        NA|      NA|                 NA|       NA|       NA|       NA|       NA|      NA|      NA|     NA|     NA|     NA|       NA|       NA|       NA|     NA|       NA|       NA|                  NA|     NA|      NA|     NA|     NA|        NA|        NA|        NA|       NA|        NA|       NA|        NA|      NA|       NA|      NA|        NA|      NA|      NA|       NA|       NA| NA|      NA|        NA|     NA|      NA|        NA|       NA|        NA|       NA|       NA|        NA|        NA|                  NA|      NA|      NA|      NA|     NA|      NA|      NA|        NA|     NA|       NA|     NA|    NA|     NA|    NA|     NA|    NA|       NA|        NA|        NA|        NA|        NA|        NA|     NA|        NA|           NA|           NA|\n",
            "|  2|       3|DOWNTOWN-FULTON F...|   29  COMMERCIAL GA...|        4|   54|   1|    null|            G7|       85 JAY STREET|            null|   11201|                0|               0|          0|   134988|         0|         0|                4|                    G7|  3.45e+08|2016-12-20|        2016|       BK|302|    21|  3017|        13|     33|  11201|    L118|        84|        36|      1000|        3|        02|      1B|      87 JAY STREET|  M1-2/R8|       NA|       NA|       NA|      NA|      NA|   MX-2|     NA|     NA|       NA|        N|       G7|     10|        0|        P|85 JAY STREET BRO...| 134988|       0|      0|      0|         0|         0|         0|        0|         0|        0|         7|       0|        0|       0|         0|   490.5|  275.33|        0|        0| NA|       0|         N|      5|       5|   1571850|  1571850|   1571850|  1571850|        0|         0|         0|                  NA|      NA|       0|     7.2|      2|     6.5|       3|3000540001|      0|     0021| 988208|195011|    12d|    NA|302 016| 30101|       NA|3000540001|12/06/2002|         1|        NA|        NA| 17V1.1|         0|1559.88914353|140131.577176|\n",
            "|  3|       3|    BROOKLYN HEIGHTS|   21  OFFICE BUILDINGS|        4|  204|   1|    null|            O6| 29 COLUMBIA HEIGHTS|            null|   11201|                0|               0|          0|    32000|    304650|      1924|                4|                    O6|   3.4e+08|2016-08-03|        2016|       BK|302|     1|  1003|        13|     33|  11201|    E205|        84|        38|      2300|        3|        02|      1A|29 COLUMBIA HEIGHTS|     M2-1|       NA|       NA|       NA|      NA|      NA|     NA|     NA|     NA|       NA|        N|       O6|     05|        0|       NA|25-30 COLUMBIA HE...|  32000|  304650| 304650|      0|    264750|         0|         0|        0|         0|    39900|         2|       1|       13|       0|         0|   92.42|  335.92|      335|       92| NA|       0|         Y|      3|       5|   1548000| 25463250|         0|        0|     1924|      1980|         0|                  NA|      NA|    9.52|       0|      2|       0|       3|3002040001|      0|     0001| 985952|195007|    12d|    NA|302 004| 30106|       NA|         0|        NA|         1|        NA|        NA| 17V1.1|         0|890.718521021|34656.4472405|\n",
            "|  4|       3|          MILL BASIN|    22  STORE BUILDINGS|        4| 8470|  55|    null|            K6|       5120 AVENUE U|            null|   11234|                0|             123|        123|   905000|   2548000|      1970|                4|                    K6| 276947000|2012-11-28|        2012|       BK|318|   698|  2005|        22|     46|  11234|    E323|        63|        35|      8822|        3|        18|      4E|      5120 AVENUE U|     M3-1|       NA|       NA|       NA|      NA|      NA|     NA|     NA|     NA|       NA|        N|       K6|     05|        1|       NA|BROOKLYN KINGS PLAZA| 905000| 2548000|2548000|      0|         0|   1263000|   1285000|        0|         0|        0|         2|       4|        2|       0|       123|     930|     859|        0|        0| NA|       0|         Y|      3|       5|  36532350|149792400|         0|        0|     1970|         0|         0|                  NA|      NA|    2.82|       0|      2|       0|       3|3084700055|      0|     0698|1006597|161424|    23b|    NA|319 077| 32502|       NA|         0|        NA|         1|         1|         1| 17V1.1|         0|3729.78685686|797554.847834|\n",
            "|  5|       3|    BROOKLYN HEIGHTS|        26 OTHER HOTELS|        4|  230|   1|    null|            H8|     21 CLARK STREET|            null|   11201|                0|               1|          1|    20267|    356000|      1927|                4|                    H8| 202500000|2017-10-31|        2017|       BK|302|  3.01|  2000|        13|     33|  11201|    E205|        84|        38|      2300|        3|        02|      1A|   79 WILLOW STREET|       R6|       NA|       NA|       NA|      NA|      NA|     NA|     NA|     NA|     LH-1|        N|       H8|     08|        0|        X|WATCHTOWER C/O RE...|  20267|  356000|  30000|      0|     30000|         0|         0|        0|         0|        0|         2|       1|       15|       0|         1|     202|  100.33|      202|   100.33| NA|       0|         N|      3|       2|   2250000| 27166050|   2250000| 27166050|     1927|      1998|      2000|Brooklyn Heights ...|      NA|   17.57|    2.43|      0|     4.8|       3|3002300001|      0|   000301| 985622|193713|    12d|    NA|302 014| 30106|       NA|         0|        NA|         1|        NA|        NA| 17V1.1|         0|620.761169374|21360.1476315|\n",
            "|  6|       3|  WILLIAMSBURG-SOUTH|   31  COMMERCIAL VA...|        4| 2428|   1|    null|            V1|     329 KENT AVENUE|            null|   11249|                0|               0|          0|    57600|         0|         0|                4|                    V1| 185445000|2012-10-11|        2012|       BK|301|   551|  1009|        14|     33|  11249|    E221|        90|        30|       400|        3|        01|      2B|    325 KENT AVENUE|       R6|       NA|       NA|       NA|    C2-4|      NA|     NA|     NA|     NA|       NA|        N|       D7|     04|        0|       NA|        325 KENT LLC|  57600|  382746|  11200| 371546|      1822|      9378|         0|        0|         0|        0|         2|       1|        0|     522|       525|     180|     320|      179|      315| NA|       0|         N|      3|       5|   3110400|  5579990|         0|        0|     2015|         0|         0|                  NA|      NA|    6.64|    2.43|      0|     4.8|       3|3024280001|      0|     0551| 993500|199202|    12d|    NA|303 007| 30806|    E-337|         0|        NA|         1|        NA|        NA| 17V1.1|         0|1006.33799946|58564.8643115|\n",
            "|  7|       3|    BROOKLYN HEIGHTS|    21 OFFICE BUILDINGS|        4|  250|  44|    null|            O4|     16 COURT STREET|            null|   11241|                0|             102|        102|    12500|    290440|      1928|                4|                    O4|  1.71e+08|2017-10-10|        2017|       BK|302|     9|  1001|        13|     33|  11241|    E205|        84|        38|      2300|        3|        02|      1B|    16 COURT STREET|    C5-2A|       NA|       NA|       NA|      NA|      NA|     DB|     NA|     NA|       NA|        N|       O4|     05|        0|        P|16 COURT STREET O...|  12500|  290440| 290440|      0|    274500|     15940|         0|        0|         0|        0|         2|       1|       37|       0|       102|     100|     125|       92|      125| NA|       0|         Y|      3|       2|   2448000| 28309500|         0| 11304900|     1928|      2009|         0|Borough Hall Skys...|      NA|   23.24|      10|     10|      10|       3|3002500044|      0|     0009| 986784|191977|    12d|    NA|302 018| 30107|       NA|         0|        NA|         1|        NA|        NA| 17V1.1|         0|460.031680123| 12947.145471|\n",
            "|  8|       3|  WILLIAMSBURG-NORTH|   08  RENTALS - ELE...|        2| 2307|   1|    null|            D8|     250 N 10 STREET|            null|   11211|              234|               3|        237|    50173|    241764|      2012|                2|                    D8|  1.69e+08|2015-05-01|        2015|       BK|301|   519|  1006|        14|     33|  11211|    E229|        94|        30|       700|        3|        01|      3B|236 NORTH 10 STREET| M1-2/R6A|       NA|       NA|       NA|      NA|      NA|   MX-8|     NA|     NA|       NA|        N|       D8|     03|        0|        P|BRKLYN NY 250 N 10TH|  50173|  241764|  27900| 213864|      4200|         0|     22200|     1500|         0|        0|         2|       1|        6|     234|       237|  521.25|     200|      500|      100| NA|       1|         N|      1|       2|   1354500| 23965650|    932847| 23543997|     2012|      2012|         0|                  NA|      NA|    4.82|       3|      2|       3|       3|3023070001|      0|     0519| 997307|200618|    13a|    NA|304 018| 30804|    E-138|3023070001|10/08/2013|         1|         1|        NA| 17V1.1|         0|1385.27352839|50772.6248688|\n",
            "|  9|       3|  WILLIAMSBURG-SOUTH|   29  COMMERCIAL GA...|        4| 2128|   5|    null|            G7|     418 KENT AVENUE|            null|   11249|                0|               0|          0|    44704|         0|         0|                4|                    G7|  1.65e+08|2015-02-04|        2015|       BK|301|   549|  2006|        14|     33|  11249|    E221|        90|        30|       500|        3|        01|      4A|    418 KENT AVENUE|     R7-3|     C4-3|       NA|       NA|    C2-4|      NA|     NA|     NA|     NA|       NA|        Y|       D1|     03|        0|       NA| 420 KENT AVENUE LLC|  44704|  463427|   4884| 458543|         0|      4884|         0|        0|         0|        0|         2|       2|       20|     470|       472|  225.08|  281.86|        0|        0| NA|       0|         Y|      5|       5|   1699200|  3534300|         0|        0|     2016|         0|         0|                  NA|      NA|   10.37|       5|      0|       5|       3|3021280005|      0|     0549| 992807|198027|    12d|    NA|303 006| 30801|     R-47|3021280005|10/29/2014|         1|         1|         1| 17V1.1|         0|992.915660585|47019.5677861|\n",
            "| 10|       3|           NAVY YARD|         30  WAREHOUSES|        4| 1876|   1|    null|            E9|        9-47 HALL ST|            null|   11205|                0|               1|          1|   113800|    547000|      1912|                4|                    E9|  1.61e+08|2016-03-04|        2016|       BK|302|   543|  2003|        14|     35|  11205|    L119|        88|        36|      9300|        3|        02|      4E|     39 HALL STREET|     M1-2|       NA|       NA|       NA|      NA|      NA|     NA|     NA|     NA|       NA|        N|       E9|     06|        0|        P|RXR 9-47 HALL STREET| 113800|  547000| 547000|      0|         0|         0|         0|        0|    547000|        0|         2|      13|        8|       0|         1|     569|     204|      304|    80.92| NA|       0|         Y|      3|       5|   1282500| 11295000|         0|        0|     1912|         0|         0|                  NA|      NA|    4.81|       0|      2|     4.8|       3|3018760001|      0|     0543| 993650|193137|    12d|    NA|302 049| 30701|       NA|         0|        NA|         1|        NA|        NA| 17V1.1|         0|1565.91477261|118754.785737|\n",
            "| 11|       3|  WILLIAMSBURG-NORTH|   41 TAX CLASS 4 - ...|        4| 2287|  16|    null|            Z9|  20 NORTH 12 STREET|            null|   11249|                0|               0|          0|    60400|         0|         0|                4|                    Z9|   1.6e+08|2017-04-19|        2017|       BK|301|   557|  2001|        14|     33|  11249|    L106|        94|        30|       400|        3|        01|      NA| 20 NORTH 12 STREET|     M3-1|       NA|       NA|       NA|      NA|      NA|     NA|     NA|     NA|       NA|        N|       Z9|     NA|        0|        P|     10TH STREET LLC|  60400|       0|      0|      0|         0|         0|         0|        0|         0|        0|         7|       1|        0|       0|         0|     302|     200|        0|        0| NA|       0|         N|      5|       5|    504900|   504900|         0|        0|        0|         0|         0|                  NA|      NA|       0|       0|      2|       0|       3|3022870016|      0|     0557| 995151|202986|    12c|    NA|304 003| 30804|    E-138|         0|        NA|         1|         1|         1| 17V1.1|         0|1031.12366578|63814.7107802|\n",
            "| 12|       3|         FORT GREENE|   31  COMMERCIAL VA...|        4| 2094|   1|    null|            V1|          625 FULTON|            null|   11217|                0|               0|          0|    62472|         0|         0|                4|                    V1|  1.58e+08|2016-01-13|        2016|       BK|302|    33|  2003|        13|     35|  11201|    E226|        88|        36|      1200|        3|        02|      1B|  625 FULTON STREET|     C6-4|       NA|       NA|       NA|      NA|      NA|     DB|     NA|     NA|       NA|        N|       V1|     11|        0|        P|    625 FULTON A LLC|  62472|       0|      0|      0|         0|         0|         0|        0|         0|        0|         4|       0|        0|       0|         0|      83|     307|        0|        0| NA|       0|         Y|      5|       5|   2811420|  2811420|         0|        0|        0|         0|         0|                  NA|      NA|       0|      10|     10|      10|       3|3020940001|      0|     0033| 989829|190359|    16c|    NA|302 026| 30706|       NA|3020940001|01/03/2008|         1|        NA|        NA| 17V1.1|         0|1056.81154834|63393.1018337|\n",
            "| 13|       3|DOWNTOWN-FULTON MALL|      11A CONDO-RENTALS|        2|  165|1001|    null|            RR|236 LIVINGSTON ST...|            LIHU|   11201|                8|               3|         11|    18175|      5802|      2009|                2|                    RR| 154250000|2016-12-15|        2016|       NA| NA|    NA|    NA|        NA|     NA|     NA|      NA|        NA|        NA|        NA|       NA|        NA|      NA|                 NA|       NA|       NA|       NA|       NA|      NA|      NA|     NA|     NA|     NA|       NA|       NA|       NA|     NA|       NA|       NA|                  NA|     NA|      NA|     NA|     NA|        NA|        NA|        NA|       NA|        NA|       NA|        NA|      NA|       NA|      NA|        NA|      NA|      NA|       NA|       NA| NA|      NA|        NA|     NA|      NA|        NA|       NA|        NA|       NA|       NA|        NA|        NA|                  NA|      NA|      NA|      NA|     NA|      NA|      NA|        NA|     NA|       NA|     NA|    NA|     NA|    NA|     NA|    NA|       NA|        NA|        NA|        NA|        NA|        NA|     NA|        NA|           NA|           NA|\n",
            "| 14|       3|  DOWNTOWN-METROTECH|    21 OFFICE BUILDINGS|        4|   63|   1|    null|            O6|  55 PROSPECT STREET|            null|   11201|                0|               2|          2|    20704|    253096|      1967|                4|                    O6| 138106368|2017-03-31|        2017|       BK|302|    21|  2029|        13|     33|  11201|    L118|        84|        36|      1000|        3|        02|      1B|   107 ADAMS STREET|     M1-6|       NA|       NA|       NA|      NA|      NA|     NA|     NA|     NA|       NA|        N|       O6|     05|        0|       NA|55 PROSPECT OWNER...|  20704|  253096| 253096|      0|    233705|     19391|         0|        0|         0|        0|         2|       1|       11|       0|         2|  100.75|     206|      100|      205| NA|       2|         Y|      3|       0|    544500| 17237700|         0|        0|     1967|      2014|         0|                  NA|      NA|   12.22|       0|     10|      10|       3|3000630001|      0|     0021| 987524|194630|    12d|    NA|302 015| 30102|       NA|         0|        NA|         1|        NA|        NA| 17V1.1|         0|621.710683646|21360.0301893|\n",
            "| 15|       3|DOWNTOWN-FULTON MALL|   28  COMMERCIAL CO...|        4|  159|1001|    null|            RK|   486 FULTON STREET|           LOWER|   11201|                0|               0|          1|        0|         0|      1920|                4|                    R5| 135212000|2013-12-02|        2013|       NA| NA|    NA|    NA|        NA|     NA|     NA|      NA|        NA|        NA|        NA|       NA|        NA|      NA|                 NA|       NA|       NA|       NA|       NA|      NA|      NA|     NA|     NA|     NA|       NA|       NA|       NA|     NA|       NA|       NA|                  NA|     NA|      NA|     NA|     NA|        NA|        NA|        NA|       NA|        NA|       NA|        NA|      NA|       NA|      NA|        NA|      NA|      NA|       NA|       NA| NA|      NA|        NA|     NA|      NA|        NA|       NA|        NA|       NA|       NA|        NA|        NA|                  NA|      NA|      NA|      NA|     NA|      NA|      NA|        NA|     NA|       NA|     NA|    NA|     NA|    NA|     NA|    NA|       NA|        NA|        NA|        NA|        NA|        NA|     NA|        NA|           NA|           NA|\n",
            "| 16|       3|  DOWNTOWN-METROTECH|        26 OTHER HOTELS|        4|   87|   9|    null|            H8|     90 SANDS STREET|            null|   11201|                0|               1|          1|    21175|    363100|      1992|                4|                    H8|  1.35e+08|2017-08-29|        2017|       BK|302|    13|  2002|        13|     33|  11201|    L118|        84|        36|      1000|        3|        02|      1B|    90 SANDS STREET|     M1-6|       NA|       NA|       NA|      NA|      NA|     NA|     NA|     NA|       NA|        N|       H8|     08|        0|        P|WATCHTOWER C/O RE...|  21175|  363100|  86353|      0|         0|         0|         0|        0|         0|    86353|         2|       1|     28.5|       0|         1|     103|  206.08|      103|   206.08| NA|       0|         N|      3|       5|   5760000| 29519100|   5760000| 29519100|     1992|         0|         0|                  NA|      NA|   17.15|       0|     10|      10|       3|3000870009|      0|     0013| 987811|194154|    12d|    NA|302 030| 30102|       NA|         0|        NA|         1|        NA|        NA| 17V1.1|         0|631.446195613|21861.4184568|\n",
            "| 17|       3|  WILLIAMSBURG-NORTH|   31  COMMERCIAL VA...|        4| 2282|   1|    null|            V1|      19 KENT AVENUE|            null|   11249|                0|               1|          1|    80000|         0|      1920|                4|                    V1| 132400000|2015-12-24|        2015|       BK|301|   557|  2002|        14|     33|  11249|    L106|        94|        30|       400|        3|        01|      1A|     19 KENT AVENUE|     M1-2|       NA|       NA|       NA|      NA|      NA|     NA|     NA|     NA|       NA|        N|       O6|     05|        0|       NA|19 KENT ACQUISITI...|  80000|  626140| 626140|      0|    159000|    243140|         0|        0|         0|   224000|         2|       1|       10|       0|        32|     200|     400|      150|      300| NA|       1|         Y|      1|       2|   3600000|  7826850|         0|        0|     2016|         0|         0|                  NA|      NA|    7.83|       0|      2|     4.8|       3|3022820001|      0|     0557| 995946|202671|    12c|    NA|304 032| 30804|    E-373|3022820001|08/27/2014|         1|         1|         1| 17V1.1|         0|1203.17419264|80813.2531628|\n",
            "| 18|       3|  WILLIAMSBURG-NORTH|   08  RENTALS - ELE...|        2| 2322|  10|    null|            D3|246 NORTH 8TH   S...|            null|   11211|              104|               0|        104|    20000|     88797|      2014|                2|                    D3|  1.25e+08|2016-03-01|        2016|       BK|301|   519|  1009|        14|     33|  11211|    E229|        94|        30|       700|        3|        01|      3B| 246 NORTH 8 STREET| M1-2/R6A|       NA|       NA|       NA|      NA|      NA|   MX-8|     NA|     NA|       NA|        N|       D3|     03|        0|       NA|GS 247 N7TH WILLI...|  20000|   88797|  17609|  71188|         0|         0|     17609|        0|         0|        0|         2|       1|        7|     104|       104|     200|     100|      200|      100| NA|       0|         N|      0|       5|     9e+05| 11085300|         0|  8820264|     2014|      2008|         0|                  NA|      NA|    4.44|       3|      2|       3|       3|3023220010|      0|     0519| 996994|200202|    13a|    NA|304 017| 30804|    E-138|3023220010|02/09/2015|         1|         1|        NA| 17V1.1|         0|608.501487291|20808.0532882|\n",
            "| 19|       3|            CANARSIE|   29  COMMERCIAL GA...|        4| 7920|   1|    null|            G7|  8717 FOSTER AVENUE|            null|   11236|                0|               0|          0|   278821|         0|         0|                4|                    G7|  1.24e+08|2012-12-05|        2012|       BK|318|   960|  1007|        18|     45|  11236|    E310|        69|        33|      7510|        3|        18|      2D| 8717 FOSTER AVENUE|     M1-1|       NA|       NA|       NA|      NA|      NA|     NA|     NA|     NA|       NA|        N|       G7|     10|        0|        P|COLE MT BROOKLYN NY,| 278821|       0|      0|      0|         0|         0|         0|        0|         0|        0|         7|       1|        0|       0|         0|  653.36|  759.05|        0|        0| NA|       0|         Y|      3|       5|   4324950|  4324950|         0|        0|        0|         0|         0|                  NA|      NA|       0|       0|      1|     2.4|       3|3079200001|      0|     0960|1007450|174221|    23a|    NA|317 020| 32401|       NA|3079200007|01/07/2011|         1|        NA|        NA| 17V1.1|         0|5692.27946456|354688.981113|\n",
            "| 20|       3|  DOWNTOWN-METROTECH|    21 OFFICE BUILDINGS|        4|   77|   1|    null|            O6|     77 SANDS STREET|            null|   11201|                0|               5|          5|    14800|    223712|      1962|                4|                    O6| 121313223|2017-03-31|        2017|       BK|302|    13|  2000|        13|     33|  11201|    L118|        84|        36|      1000|        3|        02|      1B|   137 PEARL STREET|     M1-6|       NA|       NA|       NA|      NA|      NA|     NA|     NA|     NA|       NA|        N|       O6|     05|        0|       NA|  77 SANDS OWNER LLC|  14800|  223712| 223712|      0|    206860|     16852|         0|        0|         0|        0|         2|       1|       12|       0|         5|  100.08|     172|      100|      172| NA|       1|         Y|      1|       2|    399600| 15236550|         0|        0|     1962|      2014|         0|                  NA|      NA|   15.12|       0|     10|      10|       3|3000770001|      0|     0013| 987744|194462|    12d|    NA|302 016| 30102|       NA|         0|        NA|         1|        NA|        NA| 17V1.1|         0|530.358672781|16225.6446743|\n",
            "+---+--------+--------------------+-----------------------+---------+-----+----+--------+--------------+--------------------+----------------+--------+-----------------+----------------+-----------+---------+----------+----------+-----------------+----------------------+----------+----------+------------+---------+---+------+------+----------+-------+-------+--------+----------+----------+----------+---------+----------+--------+-------------------+---------+---------+---------+---------+--------+--------+-------+-------+-------+---------+---------+---------+-------+---------+---------+--------------------+-------+--------+-------+-------+----------+----------+----------+---------+----------+---------+----------+--------+---------+--------+----------+--------+--------+---------+---------+---+--------+----------+-------+--------+----------+---------+----------+---------+---------+----------+----------+--------------------+--------+--------+--------+-------+--------+--------+----------+-------+---------+-------+------+-------+------+-------+------+---------+----------+----------+----------+----------+----------+-------+----------+-------------+-------------+\n",
            "only showing top 20 rows\n",
            "\n"
          ]
        }
      ]
    },
    {
      "cell_type": "markdown",
      "source": [
        "##### Задание 1"
      ],
      "metadata": {
        "id": "YuWkPPlfs51t"
      }
    },
    {
      "cell_type": "code",
      "source": [
        "df.printSchema()"
      ],
      "metadata": {
        "id": "tB2vbqq-cc2M"
      },
      "execution_count": null,
      "outputs": []
    },
    {
      "cell_type": "code",
      "source": [
        "df.select('year_built').show()"
      ],
      "metadata": {
        "id": "23BggrkvjHzG",
        "colab": {
          "base_uri": "https://localhost:8080/"
        },
        "outputId": "4f5e2b59-1312-4d05-8204-a69c26dcb9a4"
      },
      "execution_count": null,
      "outputs": [
        {
          "output_type": "stream",
          "name": "stdout",
          "text": [
            "+----------+\n",
            "|year_built|\n",
            "+----------+\n",
            "|      2002|\n",
            "|         0|\n",
            "|      1924|\n",
            "|      1970|\n",
            "|      1927|\n",
            "|         0|\n",
            "|      1928|\n",
            "|      2012|\n",
            "|         0|\n",
            "|      1912|\n",
            "|         0|\n",
            "|         0|\n",
            "|      2009|\n",
            "|      1967|\n",
            "|      1920|\n",
            "|      1992|\n",
            "|      1920|\n",
            "|      2014|\n",
            "|         0|\n",
            "|      1962|\n",
            "+----------+\n",
            "only showing top 20 rows\n",
            "\n"
          ]
        }
      ]
    },
    {
      "cell_type": "code",
      "source": [
        "year_built_mean = df.select('year_built').groupBy().agg(F.mean('year_built').alias('mean'))\n",
        "year_built_mean_val = year_built_mean.collect()[0]['mean']\n",
        "print(\"Средний год постройки жилья:\", year_built_mean_val)"
      ],
      "metadata": {
        "colab": {
          "base_uri": "https://localhost:8080/"
        },
        "id": "rp2wp73qld83",
        "outputId": "54ff77e1-fc57-43ce-8beb-778e3077e4e1"
      },
      "execution_count": null,
      "outputs": [
        {
          "output_type": "stream",
          "name": "stdout",
          "text": [
            "Средний год постройки жилья: 1701.6663067976863\n"
          ]
        }
      ]
    },
    {
      "cell_type": "code",
      "source": [
        "df_year_buit_and_deviation = df.select('year_built')\n",
        "df_year_buit_and_deviation = df_year_buit_and_deviation.withColumn('deviation, %', (df_year_buit_and_deviation.year_built - year_built_mean_val) / df_year_buit_and_deviation.year_built * 100)\n",
        "df_year_buit_and_deviation.show()"
      ],
      "metadata": {
        "colab": {
          "base_uri": "https://localhost:8080/"
        },
        "id": "SuT46bKmqAA-",
        "outputId": "5c572325-4b7a-4c0e-a3a8-698d4cdc5a26"
      },
      "execution_count": null,
      "outputs": [
        {
          "output_type": "stream",
          "name": "stdout",
          "text": [
            "+----------+------------------+\n",
            "|year_built|      deviation, %|\n",
            "+----------+------------------+\n",
            "|      2002|15.001682977138547|\n",
            "|         0|              null|\n",
            "|      1924|11.555805259995516|\n",
            "|      1970|13.620999654939784|\n",
            "|      1927|11.693497312003826|\n",
            "|         0|              null|\n",
            "|      1928|11.739299439954031|\n",
            "|      2012|15.424139821188554|\n",
            "|         0|              null|\n",
            "|      1912|11.000716171669128|\n",
            "|         0|              null|\n",
            "|         0|              null|\n",
            "|      2009|15.297844360493466|\n",
            "|      1967|13.489257407336744|\n",
            "|      1920| 11.37154652095384|\n",
            "|      1992|14.574984598509724|\n",
            "|      1920| 11.37154652095384|\n",
            "|      2014|15.508127765755397|\n",
            "|         0|              null|\n",
            "|      1962|13.268791702462474|\n",
            "+----------+------------------+\n",
            "only showing top 20 rows\n",
            "\n"
          ]
        }
      ]
    },
    {
      "cell_type": "markdown",
      "source": [
        "##### Задание 2"
      ],
      "metadata": {
        "id": "RGGVb6-xs_DC"
      }
    },
    {
      "cell_type": "markdown",
      "source": [
        "Мы можем использовать методы groupBy() и agg() для подсчета количества различных домов для каждой улицы.\n",
        "\n",
        "Этот код создает DataFrame с данными, группирует данные по столбцу \"address9\" и использует функцию countDistinct() для подсчета количества уникальных значений в столбце \"building_class_category\".\n",
        "\n",
        "Метод F.countDistinct() является функцией в модуле pyspark.sql.functions Apache Spark. Он используется для подсчета количества уникальных значений в столбце DataFrame."
      ],
      "metadata": {
        "id": "mKy21uDa9o78"
      }
    },
    {
      "cell_type": "code",
      "source": [
        "df_street_building = df.groupBy('address9').agg(F.countDistinct('building_class_category').alias(\"Number of unique houses on the street\"))\n",
        "df_street_building.show()"
      ],
      "metadata": {
        "colab": {
          "base_uri": "https://localhost:8080/"
        },
        "id": "oxgABCzpvqDv",
        "outputId": "cb6e9f30-24cb-4637-87f5-c8a1488cf8cf"
      },
      "execution_count": null,
      "outputs": [
        {
          "output_type": "stream",
          "name": "stdout",
          "text": [
            "+--------------------+-------------------------------------+\n",
            "|            address9|Number of unique houses on the street|\n",
            "+--------------------+-------------------------------------+\n",
            "|119 NORTH 11TH ST...|                                    0|\n",
            "|6609 FORT HAMILTO...|                                    1|\n",
            "|        784 4 AVENUE|                                    1|\n",
            "|   8704-08 18 AVENUE|                                    3|\n",
            "|   228 QUINCY STREET|                                    1|\n",
            "|285 PROSPECT PLAC...|                                    1|\n",
            "|1626-1628 UTICA A...|                                    1|\n",
            "|2700 VOORHIES AVENUE|                                    1|\n",
            "|999 EAST 108TH ST...|                                    1|\n",
            "|60 PINEAPPLE STRE...|                                    1|\n",
            "|     547 49TH STREET|                                    1|\n",
            "|    6614 14TH AVENUE|                                    1|\n",
            "|   151 11TH   STREET|                                    1|\n",
            "|400 EAST 17TH STR...|                                    1|\n",
            "|1577 EAST 17TH ST...|                                    1|\n",
            "|  1081 FULTON STREET|                                    1|\n",
            "| 66 EAST 52ND STREET|                                    1|\n",
            "| 38 EAST 16TH STREET|                                    1|\n",
            "|938 PRESIDENT STR...|                                    1|\n",
            "|  2041 WEST 7 STREET|                                    1|\n",
            "+--------------------+-------------------------------------+\n",
            "only showing top 20 rows\n",
            "\n"
          ]
        }
      ]
    },
    {
      "cell_type": "markdown",
      "source": [
        "##### Задание 3"
      ],
      "metadata": {
        "id": "OhFTsRQ97sgf"
      }
    },
    {
      "cell_type": "markdown",
      "source": [
        "Для сортировки датасета по нескольким столбцам одновременно в PySpark, вы можете использовать метод orderBy()."
      ],
      "metadata": {
        "id": "xuDwMmBP9khW"
      }
    },
    {
      "cell_type": "code",
      "source": [
        "# Сортировка датасета по возрастанию цены продажи и убыванию индексов\n",
        "sorted_df = df.orderBy('sale_price', df['zip_code'].desc())\n",
        "# Выводим результат\n",
        "sorted_df.select('sale_price','zip_code').show()"
      ],
      "metadata": {
        "colab": {
          "base_uri": "https://localhost:8080/"
        },
        "id": "Lu5YfyKb7wd1",
        "outputId": "a5d1bed7-8c07-4cff-fbdc-f9bc6d7fe1cf"
      },
      "execution_count": null,
      "outputs": [
        {
          "output_type": "stream",
          "name": "stdout",
          "text": [
            "+----------+--------+\n",
            "|sale_price|zip_code|\n",
            "+----------+--------+\n",
            "|         0|   33803|\n",
            "|         0|   33803|\n",
            "|         0|   11416|\n",
            "|         0|   11416|\n",
            "|         0|   11416|\n",
            "|         0|   11416|\n",
            "|         0|   11416|\n",
            "|         0|   11416|\n",
            "|         0|   11416|\n",
            "|         0|   11416|\n",
            "|         0|   11416|\n",
            "|         0|   11416|\n",
            "|         0|   11249|\n",
            "|         0|   11249|\n",
            "|         0|   11249|\n",
            "|         0|   11249|\n",
            "|         0|   11249|\n",
            "|         0|   11249|\n",
            "|         0|   11249|\n",
            "|         0|   11249|\n",
            "+----------+--------+\n",
            "only showing top 20 rows\n",
            "\n"
          ]
        }
      ]
    },
    {
      "cell_type": "markdown",
      "source": [
        "##### Задание 4"
      ],
      "metadata": {
        "id": "q-TuWIee9YLW"
      }
    },
    {
      "cell_type": "code",
      "source": [
        "# Группируем данные по соседству и категории класса здания и считаем максимальную цену продажи и количество зданий\n",
        "sorted_df = df.groupBy('neighborhood', 'building_class_category')\\\n",
        "    .agg(F.max('sale_price').alias('max_sale_price'), F.count('*').alias('building_count'))\\\n",
        "    .orderBy('neighborhood', 'building_class_category')"
      ],
      "metadata": {
        "id": "YY25Z6Wk9hfQ"
      },
      "execution_count": null,
      "outputs": []
    },
    {
      "cell_type": "markdown",
      "source": [
        "В приведенном примере создается DataFrame с данными, а затем с помощью методов groupBy(), agg() и max() группируются данные по столбцам \"neighborhood\" и \"building_class_category\". Затем применяется агрегатная функция max() для подсчета наибольшей цены продажи и используется count() для подсчета количества зданий. Результат сохраняется в DataFrame sorted_df и выводится на экран с помощью метода show()."
      ],
      "metadata": {
        "id": "5L_Ywiy9CnAz"
      }
    },
    {
      "cell_type": "code",
      "source": [
        "sorted_df.select('neighborhood','building_count','max_sale_price').show()"
      ],
      "metadata": {
        "colab": {
          "base_uri": "https://localhost:8080/"
        },
        "id": "VMIjZ_fiBhhC",
        "outputId": "d92fa33f-2915-470a-b4ca-542c1ce56801"
      },
      "execution_count": null,
      "outputs": [
        {
          "output_type": "stream",
          "name": "stdout",
          "text": [
            "+------------+--------------+--------------+\n",
            "|neighborhood|building_count|max_sale_price|\n",
            "+------------+--------------+--------------+\n",
            "|        3004|             2|        346788|\n",
            "|        3019|             1|             0|\n",
            "|  BATH BEACH|             6|             0|\n",
            "|  BATH BEACH|           509|         9e+05|\n",
            "|  BATH BEACH|          1808|         9e+05|\n",
            "|  BATH BEACH|           756|         9e+05|\n",
            "|  BATH BEACH|           450|        753505|\n",
            "|  BATH BEACH|            20|         7e+05|\n",
            "|  BATH BEACH|            28|        960000|\n",
            "|  BATH BEACH|             3|             0|\n",
            "|  BATH BEACH|           207|        999988|\n",
            "|  BATH BEACH|            11|        850000|\n",
            "|  BATH BEACH|            19|        855421|\n",
            "|  BATH BEACH|           406|         94000|\n",
            "|  BATH BEACH|            24|        435000|\n",
            "|  BATH BEACH|           102|         98000|\n",
            "|  BATH BEACH|             4|        399000|\n",
            "|  BATH BEACH|            69|        550000|\n",
            "|  BATH BEACH|             6|        780000|\n",
            "|  BATH BEACH|            71|        840056|\n",
            "+------------+--------------+--------------+\n",
            "only showing top 20 rows\n",
            "\n"
          ]
        }
      ]
    },
    {
      "cell_type": "code",
      "source": [
        "# Закрытие сессии\n",
        "spark.stop()"
      ],
      "metadata": {
        "id": "OmspDwazG8D3"
      },
      "execution_count": null,
      "outputs": []
    },
    {
      "cell_type": "markdown",
      "source": [
        "#### Программа B"
      ],
      "metadata": {
        "id": "29sWIDthC0fC"
      }
    },
    {
      "cell_type": "code",
      "source": [
        "spark = SparkSession.builder\\\n",
        "    .master('local')\\\n",
        "    .appName(\"My Spark Session\").getOrCreate()\n",
        "df = spark.read.csv(r\"/content/gdrive/MyDrive/smoke_detection_iot.csv\",header=True)\n",
        "df.show()"
      ],
      "metadata": {
        "colab": {
          "base_uri": "https://localhost:8080/"
        },
        "id": "-uUJWEscC3zy",
        "outputId": "133e0799-c7b9-4724-a3c6-7e8726ff7647"
      },
      "execution_count": 37,
      "outputs": [
        {
          "output_type": "stream",
          "name": "stdout",
          "text": [
            "+---+----------+--------------+-----------+---------+---------+------+-----------+-------------+-----+-----+-----+-----+-----+---+----------+\n",
            "|_c0|       UTC|Temperature[C]|Humidity[%]|TVOC[ppb]|eCO2[ppm]|Raw H2|Raw Ethanol|Pressure[hPa]|PM1.0|PM2.5|NC0.5|NC1.0|NC2.5|CNT|Fire Alarm|\n",
            "+---+----------+--------------+-----------+---------+---------+------+-----------+-------------+-----+-----+-----+-----+-----+---+----------+\n",
            "|  0|1654733331|          20.0|      57.36|        0|      400| 12306|      18520|      939.735|  0.0|  0.0|  0.0|  0.0|  0.0|  0|         0|\n",
            "|  1|1654733332|        20.015|      56.67|        0|      400| 12345|      18651|      939.744|  0.0|  0.0|  0.0|  0.0|  0.0|  1|         0|\n",
            "|  2|1654733333|        20.029|      55.96|        0|      400| 12374|      18764|      939.738|  0.0|  0.0|  0.0|  0.0|  0.0|  2|         0|\n",
            "|  3|1654733334|        20.044|      55.28|        0|      400| 12390|      18849|      939.736|  0.0|  0.0|  0.0|  0.0|  0.0|  3|         0|\n",
            "|  4|1654733335|        20.059|      54.69|        0|      400| 12403|      18921|      939.744|  0.0|  0.0|  0.0|  0.0|  0.0|  4|         0|\n",
            "|  5|1654733336|        20.073|      54.12|        0|      400| 12419|      18998|      939.725|  0.0|  0.0|  0.0|  0.0|  0.0|  5|         0|\n",
            "|  6|1654733337|        20.088|      53.61|        0|      400| 12432|      19058|      939.738|  0.0|  0.0|  0.0|  0.0|  0.0|  6|         0|\n",
            "|  7|1654733338|        20.103|       53.2|        0|      400| 12439|      19114|      939.758|  0.0|  0.0|  0.0|  0.0|  0.0|  7|         0|\n",
            "|  8|1654733339|        20.117|      52.81|        0|      400| 12448|      19155|      939.758|  0.0|  0.0|  0.0|  0.0|  0.0|  8|         0|\n",
            "|  9|1654733340|        20.132|      52.46|        0|      400| 12453|      19195|      939.756|  0.9| 3.78|  0.0|4.369| 2.78|  9|         0|\n",
            "| 10|1654733341|        20.146|      52.15|        0|      400| 12454|      19230|      939.757| 0.89| 3.71|  0.0|4.289| 2.73| 10|         0|\n",
            "| 11|1654733342|        20.161|      51.84|        0|      400| 12467|      19264|      939.754| 0.84| 3.51|  0.0|4.053| 2.58| 11|         0|\n",
            "| 12|1654733343|        20.175|      51.62|        0|      400| 12467|      19299|      939.755| 0.81| 3.38|  0.0|3.909|2.488| 12|         0|\n",
            "| 13|1654733344|         20.19|      51.39|        0|      400| 12469|      19317|      939.758| 0.74| 3.11|  0.0|3.588|2.284| 13|         0|\n",
            "| 14|1654733345|        20.204|      51.17|        0|      403| 12468|      19338|      939.742| 0.71| 2.96|  0.0|3.419|2.176| 14|         0|\n",
            "| 15|1654733346|        20.219|      50.99|        0|      400| 12475|      19362|      939.741| 0.64| 2.66|  0.0|3.077|1.959| 15|         0|\n",
            "| 16|1654733347|        20.233|      50.86|        0|      400| 12480|      19382|      939.758|  0.6| 2.52|  0.0|2.908|1.851| 16|         0|\n",
            "| 17|1654733348|        20.248|      50.66|        0|      400| 12477|      19400|      939.764| 0.53| 2.23|  0.0| 2.58|1.642| 17|         0|\n",
            "| 18|1654733349|        20.262|      50.49|        0|      400| 12481|      19422|      939.761|  0.5|  2.1|  0.0|2.423|1.542| 18|         0|\n",
            "| 19|1654733350|        20.277|      50.27|        0|      406| 12489|      19451|      939.752| 0.41| 1.72|  0.0|1.987|1.265| 19|         0|\n",
            "+---+----------+--------------+-----------+---------+---------+------+-----------+-------------+-----+-----+-----+-----+-----+---+----------+\n",
            "only showing top 20 rows\n",
            "\n"
          ]
        }
      ]
    },
    {
      "cell_type": "code",
      "source": [
        "df.printSchema()"
      ],
      "metadata": {
        "colab": {
          "base_uri": "https://localhost:8080/"
        },
        "id": "719Zg2G2HUcQ",
        "outputId": "37afc6e7-108b-4616-f1cd-4c221531501c"
      },
      "execution_count": 38,
      "outputs": [
        {
          "output_type": "stream",
          "name": "stdout",
          "text": [
            "root\n",
            " |-- _c0: string (nullable = true)\n",
            " |-- UTC: string (nullable = true)\n",
            " |-- Temperature[C]: string (nullable = true)\n",
            " |-- Humidity[%]: string (nullable = true)\n",
            " |-- TVOC[ppb]: string (nullable = true)\n",
            " |-- eCO2[ppm]: string (nullable = true)\n",
            " |-- Raw H2: string (nullable = true)\n",
            " |-- Raw Ethanol: string (nullable = true)\n",
            " |-- Pressure[hPa]: string (nullable = true)\n",
            " |-- PM1.0: string (nullable = true)\n",
            " |-- PM2.5: string (nullable = true)\n",
            " |-- NC0.5: string (nullable = true)\n",
            " |-- NC1.0: string (nullable = true)\n",
            " |-- NC2.5: string (nullable = true)\n",
            " |-- CNT: string (nullable = true)\n",
            " |-- Fire Alarm: string (nullable = true)\n",
            "\n"
          ]
        }
      ]
    },
    {
      "cell_type": "code",
      "source": [
        "new_column_names = ['_c0','UTC','Temperature[C]','Humidity[%]','TVOC[ppb]','eCO2[ppm]','Raw H2','Raw Ethanol','Pressure[hPa]','PM10','PM25','NC05','NC10','NC25','CNT','Fire Alarm']\n",
        "df = df.toDF(*new_column_names)\n",
        "df.columns"
      ],
      "metadata": {
        "colab": {
          "base_uri": "https://localhost:8080/"
        },
        "id": "29QCs7_ovDvw",
        "outputId": "04326dc6-d0af-4271-d9cd-2a90007ce686"
      },
      "execution_count": 39,
      "outputs": [
        {
          "output_type": "execute_result",
          "data": {
            "text/plain": [
              "['_c0',\n",
              " 'UTC',\n",
              " 'Temperature[C]',\n",
              " 'Humidity[%]',\n",
              " 'TVOC[ppb]',\n",
              " 'eCO2[ppm]',\n",
              " 'Raw H2',\n",
              " 'Raw Ethanol',\n",
              " 'Pressure[hPa]',\n",
              " 'PM10',\n",
              " 'PM25',\n",
              " 'NC05',\n",
              " 'NC10',\n",
              " 'NC25',\n",
              " 'CNT',\n",
              " 'Fire Alarm']"
            ]
          },
          "metadata": {},
          "execution_count": 39
        }
      ]
    },
    {
      "cell_type": "code",
      "source": [
        "feature_columns = ['_c0','UTC','Temperature[C]','Humidity[%]','TVOC[ppb]','eCO2[ppm]','Raw H2','Raw Ethanol','Pressure[hPa]','PM10','PM25','NC05','NC10','NC25','CNT']\n",
        "target_column = ['Fire Alarm']\n",
        "\n",
        "all_columns = feature_columns + target_column"
      ],
      "metadata": {
        "id": "0l3FttQd_M6R"
      },
      "execution_count": 40,
      "outputs": []
    },
    {
      "cell_type": "code",
      "source": [
        "string_col_2_float = ['PM10', 'NC10', 'PM25', 'NC05', 'NC25', 'Humidity[%]', 'Pressure[hPa]', 'Temperature[C]']"
      ],
      "metadata": {
        "id": "Hopa9ts5enGV"
      },
      "execution_count": 41,
      "outputs": []
    },
    {
      "cell_type": "code",
      "source": [
        "# Из string в numeric\n",
        "for column in all_columns:\n",
        "  if column in string_col_2_float:\n",
        "    df = df.withColumn(column, F.col(column).cast('Double'))\n",
        "  else:\n",
        "    df = df.withColumn(column, F.col(column).cast('Integer'))"
      ],
      "metadata": {
        "id": "pfLyCsxKrX3Q"
      },
      "execution_count": 42,
      "outputs": []
    },
    {
      "cell_type": "code",
      "source": [
        "def df_2_vector(dataframe, inputCols, outputCol):\n",
        "  assembler = VectorAssembler(\n",
        "  inputCols=inputCols, outputCol=outputCol)\n",
        "  assembled_df = assembler.transform(dataframe)\n",
        "  return assembled_df.randomSplit([0.8, 0.2])"
      ],
      "metadata": {
        "id": "3XAba-yl0N76"
      },
      "execution_count": 43,
      "outputs": []
    },
    {
      "cell_type": "code",
      "source": [
        "cols = feature_columns\n",
        "train_df, test_df = df_2_vector(df, cols, 'vectorized_data')"
      ],
      "metadata": {
        "id": "E4PiRXqk1CmB"
      },
      "execution_count": 44,
      "outputs": []
    },
    {
      "cell_type": "code",
      "source": [
        "cell_value = train_df.collect()[2]['vectorized_data']\n",
        "print(cell_value)"
      ],
      "metadata": {
        "colab": {
          "base_uri": "https://localhost:8080/"
        },
        "id": "0Bx2Dvge18J6",
        "outputId": "bfa335ea-5b6b-4924-cfd3-5cf16acea55d"
      },
      "execution_count": 45,
      "outputs": [
        {
          "output_type": "stream",
          "name": "stdout",
          "text": [
            "[3.0,1654733334.0,20.044,55.28,0.0,400.0,12390.0,18849.0,939.736,0.0,0.0,0.0,0.0,0.0,3.0]\n"
          ]
        }
      ]
    },
    {
      "cell_type": "markdown",
      "source": [
        "##### Логистическая регрессия"
      ],
      "metadata": {
        "id": "9GQp2jrMR12j"
      }
    },
    {
      "cell_type": "code",
      "source": [
        "logistic_regression_model = LogisticRegression(labelCol= 'Fire Alarm', featuresCol = 'vectorized_data', maxIter=10000, regParam=0.1, elasticNetParam=0.8)\n",
        "model_lr = logistic_regression_model.fit(train_df)"
      ],
      "metadata": {
        "id": "zx1bYwIn9Uum"
      },
      "execution_count": 46,
      "outputs": []
    },
    {
      "cell_type": "code",
      "source": [
        "predictions_lr = model_lr.transform(test_df)"
      ],
      "metadata": {
        "id": "NMPUlJaoKIzT"
      },
      "execution_count": 47,
      "outputs": []
    },
    {
      "cell_type": "code",
      "source": [
        "type(predictions_lr)"
      ],
      "metadata": {
        "colab": {
          "base_uri": "https://localhost:8080/"
        },
        "id": "Fr5sDVvgKeB0",
        "outputId": "18d10139-2d0d-474b-d24b-730aeab88291"
      },
      "execution_count": 48,
      "outputs": [
        {
          "output_type": "execute_result",
          "data": {
            "text/plain": [
              "pyspark.sql.dataframe.DataFrame"
            ]
          },
          "metadata": {},
          "execution_count": 48
        }
      ]
    },
    {
      "cell_type": "code",
      "source": [
        "predictions_lr.select('Fire Alarm','probability','prediction').show(truncate=False)"
      ],
      "metadata": {
        "colab": {
          "base_uri": "https://localhost:8080/"
        },
        "id": "ESQB1qO3Kid8",
        "outputId": "0299c9f7-50d0-4cc3-a82f-f9c097bc736e"
      },
      "execution_count": 49,
      "outputs": [
        {
          "output_type": "stream",
          "name": "stdout",
          "text": [
            "+----------+----------------------------------------+----------+\n",
            "|Fire Alarm|probability                             |prediction|\n",
            "+----------+----------------------------------------+----------+\n",
            "|0         |[0.4942754172404245,0.5057245827595755] |1.0       |\n",
            "|0         |[0.5019699171808899,0.4980300828191101] |0.0       |\n",
            "|0         |[0.502772051440455,0.497227948559545]   |0.0       |\n",
            "|0         |[0.5031633642885361,0.49683663571146386]|0.0       |\n",
            "|0         |[0.5043386210021763,0.4956613789978237] |0.0       |\n",
            "|0         |[0.504926232192021,0.49507376780797896] |0.0       |\n",
            "|0         |[0.5055360131037703,0.4944639868962297] |0.0       |\n",
            "|0         |[0.5058116527273412,0.4941883472726588] |0.0       |\n",
            "|0         |[0.5024062599599176,0.4975937400400824] |0.0       |\n",
            "|0         |[0.5013156659382825,0.4986843340617175] |0.0       |\n",
            "|0         |[0.49857032152522174,0.5014296784747783]|1.0       |\n",
            "|0         |[0.4970911011111644,0.5029088988888356] |1.0       |\n",
            "|0         |[0.49485422024955245,0.5051457797504475]|1.0       |\n",
            "|0         |[0.4925604038852548,0.5074395961147452] |1.0       |\n",
            "|0         |[0.4916885319924637,0.5083114680075362] |1.0       |\n",
            "|0         |[0.49329784646141983,0.5067021535385802]|1.0       |\n",
            "|0         |[0.49757315403096086,0.5024268459690391]|1.0       |\n",
            "|0         |[0.49841294765419475,0.5015870523458053]|1.0       |\n",
            "|0         |[0.5022260114763398,0.49777398852366017]|0.0       |\n",
            "|0         |[0.5025198357003644,0.4974801642996356] |0.0       |\n",
            "+----------+----------------------------------------+----------+\n",
            "only showing top 20 rows\n",
            "\n"
          ]
        }
      ]
    },
    {
      "cell_type": "code",
      "source": [
        "print('Модель Логистической регрессии. Правильные предсказания')\n",
        "TP = predictions_lr[(predictions_lr['Fire Alarm']==1)&(predictions_lr['prediction']==1)].count()\n",
        "print('Количество верно идентифицированных угроз пожарной тревоги (правильное предсказание):',TP)\n",
        "TN = predictions_lr[(predictions_lr['Fire Alarm']==0)&(predictions_lr['prediction']==0)].count()\n",
        "print('Количество верно идентифицированных не угроз пожарной тревоги (правильное предсказание):',TN)"
      ],
      "metadata": {
        "colab": {
          "base_uri": "https://localhost:8080/"
        },
        "id": "xpI6mmlHMpUx",
        "outputId": "caea184b-711b-4bea-fbe9-d4fe99f1543a"
      },
      "execution_count": 50,
      "outputs": [
        {
          "output_type": "stream",
          "name": "stdout",
          "text": [
            "Модель Логистической регрессии. Правильные предсказания\n",
            "Количество верно идентифицированных угроз пожарной тревоги (правильное предсказание): 8715\n",
            "Количество верно идентифицированных не угроз пожарной тревоги (правильное предсказание): 2742\n"
          ]
        }
      ]
    },
    {
      "cell_type": "code",
      "source": [
        "print('Модель Логистической регрессии. Ошибки')\n",
        "FP = predictions_lr[(predictions_lr['Fire Alarm']==0)&(predictions_lr['prediction']==1)].count()\n",
        "print('Количество ложно идентифицированных не угроз пожарной тревоги (ошибочное предсказание):',FP)\n",
        "FN = predictions_lr[(predictions_lr['Fire Alarm']==1)&(predictions_lr['prediction']==0)].count()\n",
        "print('Количество ложно идентифицированных угроз пожарной тревоги (ошибочное предсказание):',FN)"
      ],
      "metadata": {
        "colab": {
          "base_uri": "https://localhost:8080/"
        },
        "id": "gfHVUX4xOTiy",
        "outputId": "1cf50ba5-7ded-4654-db96-f60a94bdff13"
      },
      "execution_count": 51,
      "outputs": [
        {
          "output_type": "stream",
          "name": "stdout",
          "text": [
            "Модель Логистической регрессии. Ошибки\n",
            "Количество ложно идентифицированных не угроз пожарной тревоги (ошибочное предсказание): 829\n",
            "Количество ложно идентифицированных угроз пожарной тревоги (ошибочное предсказание): 239\n"
          ]
        }
      ]
    },
    {
      "cell_type": "code",
      "source": [
        "#Метрики качества моделей\n",
        "#Accuracy - Верность  Acc. = (TP+TN)/(TP+TN+FP+FN)\n",
        "acc_lr = (TP+TN)/(TP+TN+FP+FN)\n",
        "print('Верность модели (логистическая регрессия):', round(acc_lr,2))\n",
        "\n",
        "#Precision - Точность Prec. = TP/(TP+FP)\n",
        "precision_lr = TP/(TP+FP)\n",
        "print('Точность модели (логистическая регрессия):', round(precision_lr,2))\n",
        "\n",
        "#Recall - Полнота Recall = TP/(TP+FN)\n",
        "recall_lr = TP/(TP+FN)\n",
        "print('Полнота модели (логистическая регрессия):', round(recall_lr,2))"
      ],
      "metadata": {
        "colab": {
          "base_uri": "https://localhost:8080/"
        },
        "id": "Y4AbpKXwO8cW",
        "outputId": "a5996611-733b-492d-9c7d-154f6f0b8795"
      },
      "execution_count": 52,
      "outputs": [
        {
          "output_type": "stream",
          "name": "stdout",
          "text": [
            "Верность модели (логистическая регрессия): 0.91\n",
            "Точность модели (логистическая регрессия): 0.91\n",
            "Полнота модели (логистическая регрессия): 0.97\n"
          ]
        }
      ]
    },
    {
      "cell_type": "markdown",
      "source": [
        "##### Дерево решений"
      ],
      "metadata": {
        "id": "Vtx7JSEzR9Ax"
      }
    },
    {
      "cell_type": "code",
      "source": [
        "#Decision Tree Model\n",
        "tree_model = DecisionTreeClassifier(featuresCol='vectorized_data',\n",
        "                                  labelCol='Fire Alarm',maxDepth=3).fit(train_df)\n",
        "\n",
        "tree_predictions = tree_model.transform(test_df)"
      ],
      "metadata": {
        "id": "VbkcAGBySEZG"
      },
      "execution_count": 53,
      "outputs": []
    },
    {
      "cell_type": "code",
      "source": [
        "tree_predictions.select('Fire Alarm','probability','prediction').show(truncate=False)"
      ],
      "metadata": {
        "colab": {
          "base_uri": "https://localhost:8080/"
        },
        "id": "zwPbTsRKVdED",
        "outputId": "67a93ab0-1cda-4249-b677-90070f7e59eb"
      },
      "execution_count": 54,
      "outputs": [
        {
          "output_type": "stream",
          "name": "stdout",
          "text": [
            "+----------+----------------------------------------+----------+\n",
            "|Fire Alarm|probability                             |prediction|\n",
            "+----------+----------------------------------------+----------+\n",
            "|0         |[0.9349548842683405,0.06504511573165947]|0.0       |\n",
            "|0         |[0.9349548842683405,0.06504511573165947]|0.0       |\n",
            "|0         |[0.9349548842683405,0.06504511573165947]|0.0       |\n",
            "|0         |[0.9349548842683405,0.06504511573165947]|0.0       |\n",
            "|0         |[0.9349548842683405,0.06504511573165947]|0.0       |\n",
            "|0         |[0.9349548842683405,0.06504511573165947]|0.0       |\n",
            "|0         |[0.9349548842683405,0.06504511573165947]|0.0       |\n",
            "|0         |[0.9349548842683405,0.06504511573165947]|0.0       |\n",
            "|0         |[0.9349548842683405,0.06504511573165947]|0.0       |\n",
            "|0         |[0.9349548842683405,0.06504511573165947]|0.0       |\n",
            "|0         |[0.9349548842683405,0.06504511573165947]|0.0       |\n",
            "|0         |[0.9349548842683405,0.06504511573165947]|0.0       |\n",
            "|0         |[0.9349548842683405,0.06504511573165947]|0.0       |\n",
            "|0         |[0.9349548842683405,0.06504511573165947]|0.0       |\n",
            "|0         |[0.9349548842683405,0.06504511573165947]|0.0       |\n",
            "|0         |[0.9349548842683405,0.06504511573165947]|0.0       |\n",
            "|0         |[0.9349548842683405,0.06504511573165947]|0.0       |\n",
            "|0         |[0.9349548842683405,0.06504511573165947]|0.0       |\n",
            "|0         |[0.9349548842683405,0.06504511573165947]|0.0       |\n",
            "|0         |[0.9349548842683405,0.06504511573165947]|0.0       |\n",
            "+----------+----------------------------------------+----------+\n",
            "only showing top 20 rows\n",
            "\n"
          ]
        }
      ]
    },
    {
      "cell_type": "code",
      "source": [
        "print('Модель Дерева решений. Правильные предсказания')\n",
        "TP = tree_predictions[(tree_predictions['Fire Alarm']==1)&(tree_predictions['prediction']==1)].count()\n",
        "print('Количество верно идентифицированных угроз пожарной тревоги (правильное предсказание):',TP)\n",
        "TN = tree_predictions[(tree_predictions['Fire Alarm']==0)&(tree_predictions['prediction']==0)].count()\n",
        "print('Количество верно идентифицированных не угроз пожарной тревоги (правильное предсказание):',TN)"
      ],
      "metadata": {
        "colab": {
          "base_uri": "https://localhost:8080/"
        },
        "id": "umDcmblYWKig",
        "outputId": "d72a9300-978c-4087-dd5a-97ffbca1c9af"
      },
      "execution_count": 55,
      "outputs": [
        {
          "output_type": "stream",
          "name": "stdout",
          "text": [
            "Модель Дерева решений. Правильные предсказания\n",
            "Количество верно идентифицированных угроз пожарной тревоги (правильное предсказание): 8716\n",
            "Количество верно идентифицированных не угроз пожарной тревоги (правильное предсказание): 3486\n"
          ]
        }
      ]
    },
    {
      "cell_type": "code",
      "source": [
        "print('Модель Дерева решений. Ошибки')\n",
        "FP = tree_predictions[(tree_predictions['Fire Alarm']==0)&(tree_predictions['prediction']==1)].count()\n",
        "print('Количество ложно идентифицированных не угроз пожарной тревоги (ошибочное предсказание):',FP)\n",
        "FN = tree_predictions[(tree_predictions['Fire Alarm']==1)&(tree_predictions['prediction']==0)].count()\n",
        "print('Количество ложно идентифицированных угроз пожарной тревоги (ошибочное предсказание):',FN)"
      ],
      "metadata": {
        "colab": {
          "base_uri": "https://localhost:8080/"
        },
        "id": "frEtDjHuWLtl",
        "outputId": "70dbf8bb-4fe4-44cb-d45f-ce6ef9558af9"
      },
      "execution_count": 56,
      "outputs": [
        {
          "output_type": "stream",
          "name": "stdout",
          "text": [
            "Модель Дерева решений. Ошибки\n",
            "Количество ложно идентифицированных не угроз пожарной тревоги (ошибочное предсказание): 85\n",
            "Количество ложно идентифицированных угроз пожарной тревоги (ошибочное предсказание): 238\n"
          ]
        }
      ]
    },
    {
      "cell_type": "code",
      "source": [
        "#Метрики качества моделей\n",
        "#Accuracy - Верность  Acc. = (TP+TN)/(TP+TN+FP+FN)\n",
        "acc_tree = (TP+TN)/(TP+TN+FP+FN)\n",
        "print('Верность модели (дерево решений):', round(acc_tree,2))\n",
        "\n",
        "#Precision - Точность Prec. = TP/(TP+FP)\n",
        "precision_tree = TP/(TP+FP)\n",
        "print('Точность модели (дерево решений):', round(precision_tree,2))\n",
        "\n",
        "#Recall - Полнота Recall = TP/(TP+FN)\n",
        "recall_tree = TP/(TP+FN)\n",
        "print('Полнота модели (дерево решений):', round(recall_tree,2))"
      ],
      "metadata": {
        "colab": {
          "base_uri": "https://localhost:8080/"
        },
        "id": "wr-u4ijtWuCm",
        "outputId": "b0a319cc-cccf-473f-f7e7-02bd188c4a04"
      },
      "execution_count": 57,
      "outputs": [
        {
          "output_type": "stream",
          "name": "stdout",
          "text": [
            "Верность модели (дерево решений): 0.97\n",
            "Точность модели (дерево решений): 0.99\n",
            "Полнота модели (дерево решений): 0.97\n"
          ]
        }
      ]
    },
    {
      "cell_type": "markdown",
      "source": [
        "##### Случайный лес"
      ],
      "metadata": {
        "id": "lXq7CeLJW5cQ"
      }
    },
    {
      "cell_type": "code",
      "source": [
        "rf_model = RandomForestClassifier(featuresCol='vectorized_data',\n",
        "                                  labelCol='Fire Alarm',maxDepth=5, numTrees=5).fit(train_df)\n",
        "\n",
        "rf_predictions = rf_model.transform(test_df)\n",
        "rf_predictions.select('Fire Alarm','probability','prediction').show(truncate=False)"
      ],
      "metadata": {
        "colab": {
          "base_uri": "https://localhost:8080/"
        },
        "id": "ruOFYMJ2W-uM",
        "outputId": "00991c94-a91d-42ea-aab7-ef1cf418d5dd"
      },
      "execution_count": 58,
      "outputs": [
        {
          "output_type": "stream",
          "name": "stdout",
          "text": [
            "+----------+-----------------------------------------+----------+\n",
            "|Fire Alarm|probability                              |prediction|\n",
            "+----------+-----------------------------------------+----------+\n",
            "|0         |[0.9998393086184751,1.606913815248496E-4]|0.0       |\n",
            "|0         |[0.9929427568943373,0.00705724310566278] |0.0       |\n",
            "|0         |[0.9929427568943373,0.00705724310566278] |0.0       |\n",
            "|0         |[0.9929427568943373,0.00705724310566278] |0.0       |\n",
            "|0         |[0.9929427568943373,0.00705724310566278] |0.0       |\n",
            "|0         |[0.9929427568943373,0.00705724310566278] |0.0       |\n",
            "|0         |[0.9998393086184751,1.606913815248496E-4]|0.0       |\n",
            "|0         |[0.9998393086184751,1.606913815248496E-4]|0.0       |\n",
            "|0         |[0.9998393086184751,1.606913815248496E-4]|0.0       |\n",
            "|0         |[0.9998393086184751,1.606913815248496E-4]|0.0       |\n",
            "|0         |[0.9998393086184751,1.606913815248496E-4]|0.0       |\n",
            "|0         |[0.9998393086184751,1.606913815248496E-4]|0.0       |\n",
            "|0         |[0.9998393086184751,1.606913815248496E-4]|0.0       |\n",
            "|0         |[0.9998393086184751,1.606913815248496E-4]|0.0       |\n",
            "|0         |[0.9998393086184751,1.606913815248496E-4]|0.0       |\n",
            "|0         |[0.9929427568943373,0.00705724310566278] |0.0       |\n",
            "|0         |[0.9998393086184751,1.606913815248496E-4]|0.0       |\n",
            "|0         |[0.9998393086184751,1.606913815248496E-4]|0.0       |\n",
            "|0         |[0.9998393086184751,1.606913815248496E-4]|0.0       |\n",
            "|0         |[0.9998393086184751,1.606913815248496E-4]|0.0       |\n",
            "+----------+-----------------------------------------+----------+\n",
            "only showing top 20 rows\n",
            "\n"
          ]
        }
      ]
    },
    {
      "cell_type": "code",
      "source": [
        "print('Модель Случайного леса. Правильные предсказания')\n",
        "TP = rf_predictions[(rf_predictions['Fire Alarm']==1)&(rf_predictions['prediction']==1)].count()\n",
        "print('Количество верно идентифицированных угроз пожарной тревоги (правильное предсказание):',TP)\n",
        "TN = rf_predictions[(rf_predictions['Fire Alarm']==0)&(rf_predictions['prediction']==0)].count()\n",
        "print('Количество верно идентифицированных не угроз пожарной тревоги (правильное предсказание):',TN)"
      ],
      "metadata": {
        "colab": {
          "base_uri": "https://localhost:8080/"
        },
        "id": "UcvSyj4tiGQC",
        "outputId": "df969077-67c1-4f9c-bf1c-04343e7ae2f7"
      },
      "execution_count": 59,
      "outputs": [
        {
          "output_type": "stream",
          "name": "stdout",
          "text": [
            "Модель Случайного леса. Правильные предсказания\n",
            "Количество верно идентифицированных угроз пожарной тревоги (правильное предсказание): 8954\n",
            "Количество верно идентифицированных не угроз пожарной тревоги (правильное предсказание): 3566\n"
          ]
        }
      ]
    },
    {
      "cell_type": "code",
      "source": [
        "print('Модель Случайного леса. Ошибки')\n",
        "FP = rf_predictions[(rf_predictions['Fire Alarm']==0)&(rf_predictions['prediction']==1)].count()\n",
        "print('Количество ложно идентифицированных не угроз пожарной тревоги (ошибочное предсказание):',FP)\n",
        "FN = rf_predictions[(rf_predictions['Fire Alarm']==1)&(rf_predictions['prediction']==0)].count()\n",
        "print('Количество ложно идентифицированных угроз пожарной тревоги (ошибочное предсказание):',FN)"
      ],
      "metadata": {
        "colab": {
          "base_uri": "https://localhost:8080/"
        },
        "id": "qi9O4BSgiI54",
        "outputId": "e7ff47ff-16d7-4fd2-b79b-aa38dc40f554"
      },
      "execution_count": 60,
      "outputs": [
        {
          "output_type": "stream",
          "name": "stdout",
          "text": [
            "Модель Случайного леса. Ошибки\n",
            "Количество ложно идентифицированных не угроз пожарной тревоги (ошибочное предсказание): 5\n",
            "Количество ложно идентифицированных угроз пожарной тревоги (ошибочное предсказание): 0\n"
          ]
        }
      ]
    },
    {
      "cell_type": "code",
      "source": [
        "#Метрики качества моделей\n",
        "#Accuracy - Верность  Acc. = (TP+TN)/(TP+TN+FP+FN)\n",
        "acc_rf = (TP+TN)/(TP+TN+FP+FN)\n",
        "print('Верность модели (случайный лес):', round(acc_rf,4))\n",
        "\n",
        "#Precision - Точность Prec. = TP/(TP+FP)\n",
        "precision_rf = TP/(TP+FP)\n",
        "print('Точность модели (случайный лес):', round(precision_rf,4))\n",
        "\n",
        "#Recall - Полнота Recall = TP/(TP+FN)\n",
        "recall_rf = TP/(TP+FN)\n",
        "print('Полнота модели (случайный лес):', round(recall_rf,4))"
      ],
      "metadata": {
        "colab": {
          "base_uri": "https://localhost:8080/"
        },
        "id": "pff-TdtmiVow",
        "outputId": "378e6c60-2246-4207-9fea-489189fe6add"
      },
      "execution_count": 63,
      "outputs": [
        {
          "output_type": "stream",
          "name": "stdout",
          "text": [
            "Верность модели (случайный лес): 0.9996\n",
            "Точность модели (случайный лес): 0.9994\n",
            "Полнота модели (случайный лес): 1.0\n"
          ]
        }
      ]
    },
    {
      "cell_type": "code",
      "source": [
        "# Закрытие сессии\n",
        "spark.stop()"
      ],
      "metadata": {
        "id": "FB74Zu1RBxQ7"
      },
      "execution_count": 62,
      "outputs": []
    },
    {
      "cell_type": "markdown",
      "source": [
        "#### Программа C"
      ],
      "metadata": {
        "id": "CbQwNjPjEAEt"
      }
    },
    {
      "cell_type": "code",
      "source": [
        "from itertools import islice\n",
        "from pyspark import SparkContext\n",
        "from pyspark.sql.functions import col"
      ],
      "metadata": {
        "id": "JNhQ1Q02eBaJ"
      },
      "execution_count": 16,
      "outputs": []
    },
    {
      "cell_type": "code",
      "source": [
        "spark = SparkSession.builder.master('local[*]').getOrCreate()\n",
        "\n",
        "# Создание SparkContext\n",
        "sc = spark.sparkContext"
      ],
      "metadata": {
        "id": "65d6igB8EB7Q"
      },
      "execution_count": 8,
      "outputs": []
    },
    {
      "cell_type": "code",
      "source": [
        "def take(n, iterable):\n",
        "    return list(islice(iterable, n))\n",
        "\n",
        "def sort_dict_by_value(dict, reverse=True):\n",
        "    return {key: value for key, value in sorted(dict.items(), key=lambda x: x[1], reverse=reverse)}\n"
      ],
      "metadata": {
        "id": "ZBFiMZMEd5Pq"
      },
      "execution_count": 15,
      "outputs": []
    },
    {
      "cell_type": "markdown",
      "source": [
        "##### 10 самых популярных хештегов"
      ],
      "metadata": {
        "id": "2uYtLTol56nb"
      }
    },
    {
      "cell_type": "code",
      "source": [
        "main_df = spark.read.csv('/content/gdrive/MyDrive/FIFA.csv', header=True, multiLine=True, escape=\"\\\"\")\n",
        "\n",
        "groupedHashTagsByCount = main_df.rdd \\\n",
        "    .filter(lambda x: x['Hashtags'] != None) \\\n",
        "    .flatMap(lambda x: x['Hashtags'].split(',')) \\\n",
        "    .countByValue()\n",
        "groupedHashTagsByCountSorted = sort_dict_by_value(groupedHashTagsByCount)\n",
        "top10Hashtags =take(10, groupedHashTagsByCountSorted.items())\n",
        "top10HashtagsDf = spark.createDataFrame(data=top10Hashtags, schema = [\"hashtag\",\"count\"])\n",
        "print('10 наиболее упоминаемых хэштегов')\n",
        "top10HashtagsDf.show()"
      ],
      "metadata": {
        "colab": {
          "base_uri": "https://localhost:8080/"
        },
        "id": "d0Ig6od0eDHh",
        "outputId": "9944f7ed-c09b-43aa-ac0c-56789669f445"
      },
      "execution_count": 35,
      "outputs": [
        {
          "output_type": "stream",
          "name": "stdout",
          "text": [
            "10 наиболее упоминаемых хэштегов\n",
            "+-------------+------+\n",
            "|      hashtag| count|\n",
            "+-------------+------+\n",
            "|     WorldCup|398744|\n",
            "|          FRA| 66128|\n",
            "|     worldcup| 33195|\n",
            "|          CRO| 32274|\n",
            "|WorldCupFinal| 28446|\n",
            "|          ENG| 25165|\n",
            "|       FRAARG| 21413|\n",
            "|       FRABEL| 18862|\n",
            "|       FRACRO| 17982|\n",
            "|          BEL| 15728|\n",
            "+-------------+------+\n",
            "\n"
          ]
        }
      ]
    },
    {
      "cell_type": "markdown",
      "source": [
        "##### 10 самых популярных столиц, из которых отправляли твиты"
      ],
      "metadata": {
        "id": "Vz1iyUeA6GX_"
      }
    },
    {
      "cell_type": "code",
      "source": [
        "capitals_df = spark.read.csv('country-list.csv', header=True, multiLine=True, escape=\"\\\"\")\n",
        "capitals_df = capitals_df.drop('country', 'type')\n",
        "\n",
        "new_df = main_df.join(capitals_df, capitals_df.capital == main_df.Place, \"leftouter\")\n",
        "\n",
        "groupedCapitalsByCount = new_df.rdd\\\n",
        "    .filter(lambda x: x['capital'] != None)\\\n",
        "    .map(lambda x: x['Place'])\\\n",
        "    .countByValue()\\\n",
        "\n",
        "groupedCapitalsByCountSorted = sort_dict_by_value(groupedCapitalsByCount)\n",
        "top10Capitals =take(10, groupedCapitalsByCountSorted.items())\n",
        "top10CapitalsDf = spark\\\n",
        "    .createDataFrame(data=top10Capitals, schema = [\"capital\",\"count\"])\n",
        "print('10 столиц, из которых твиты отправлялись наиболее часто')\n",
        "top10CapitalsDf.show()"
      ],
      "metadata": {
        "colab": {
          "base_uri": "https://localhost:8080/",
          "height": 380
        },
        "id": "iUoRnzZ_huwT",
        "outputId": "1b5fd009-030a-4291-8add-a6676561bf81"
      },
      "execution_count": 36,
      "outputs": [
        {
          "output_type": "error",
          "ename": "AnalysisException",
          "evalue": "ignored",
          "traceback": [
            "\u001b[0;31m---------------------------------------------------------------------------\u001b[0m",
            "\u001b[0;31mAnalysisException\u001b[0m                         Traceback (most recent call last)",
            "\u001b[0;32m<ipython-input-36-68066f0d0c91>\u001b[0m in \u001b[0;36m<cell line: 1>\u001b[0;34m()\u001b[0m\n\u001b[0;32m----> 1\u001b[0;31m \u001b[0mcapitals_df\u001b[0m \u001b[0;34m=\u001b[0m \u001b[0mspark\u001b[0m\u001b[0;34m.\u001b[0m\u001b[0mread\u001b[0m\u001b[0;34m.\u001b[0m\u001b[0mcsv\u001b[0m\u001b[0;34m(\u001b[0m\u001b[0;34m'country-list.csv'\u001b[0m\u001b[0;34m,\u001b[0m \u001b[0mheader\u001b[0m\u001b[0;34m=\u001b[0m\u001b[0;32mTrue\u001b[0m\u001b[0;34m,\u001b[0m \u001b[0mmultiLine\u001b[0m\u001b[0;34m=\u001b[0m\u001b[0;32mTrue\u001b[0m\u001b[0;34m,\u001b[0m \u001b[0mescape\u001b[0m\u001b[0;34m=\u001b[0m\u001b[0;34m\"\\\"\"\u001b[0m\u001b[0;34m)\u001b[0m\u001b[0;34m\u001b[0m\u001b[0;34m\u001b[0m\u001b[0m\n\u001b[0m\u001b[1;32m      2\u001b[0m \u001b[0mcapitals_df\u001b[0m \u001b[0;34m=\u001b[0m \u001b[0mcapitals_df\u001b[0m\u001b[0;34m.\u001b[0m\u001b[0mdrop\u001b[0m\u001b[0;34m(\u001b[0m\u001b[0;34m'country'\u001b[0m\u001b[0;34m,\u001b[0m \u001b[0;34m'type'\u001b[0m\u001b[0;34m)\u001b[0m\u001b[0;34m\u001b[0m\u001b[0;34m\u001b[0m\u001b[0m\n\u001b[1;32m      3\u001b[0m \u001b[0;34m\u001b[0m\u001b[0m\n\u001b[1;32m      4\u001b[0m \u001b[0mnew_df\u001b[0m \u001b[0;34m=\u001b[0m \u001b[0mmain_df\u001b[0m\u001b[0;34m.\u001b[0m\u001b[0mjoin\u001b[0m\u001b[0;34m(\u001b[0m\u001b[0mcapitals_df\u001b[0m\u001b[0;34m,\u001b[0m \u001b[0mcapitals_df\u001b[0m\u001b[0;34m.\u001b[0m\u001b[0mcapital\u001b[0m \u001b[0;34m==\u001b[0m \u001b[0mmain_df\u001b[0m\u001b[0;34m.\u001b[0m\u001b[0mPlace\u001b[0m\u001b[0;34m,\u001b[0m \u001b[0;34m\"leftouter\"\u001b[0m\u001b[0;34m)\u001b[0m\u001b[0;34m\u001b[0m\u001b[0;34m\u001b[0m\u001b[0m\n\u001b[1;32m      5\u001b[0m \u001b[0;34m\u001b[0m\u001b[0m\n",
            "\u001b[0;32m/content/spark-3.3.0-bin-hadoop3/python/pyspark/sql/readwriter.py\u001b[0m in \u001b[0;36mcsv\u001b[0;34m(self, path, schema, sep, encoding, quote, escape, comment, header, inferSchema, ignoreLeadingWhiteSpace, ignoreTrailingWhiteSpace, nullValue, nanValue, positiveInf, negativeInf, dateFormat, timestampFormat, maxColumns, maxCharsPerColumn, maxMalformedLogPerPartition, mode, columnNameOfCorruptRecord, multiLine, charToEscapeQuoteEscaping, samplingRatio, enforceSchema, emptyValue, locale, lineSep, pathGlobFilter, recursiveFileLookup, modifiedBefore, modifiedAfter, unescapedQuoteHandling)\u001b[0m\n\u001b[1;32m    533\u001b[0m         \u001b[0;32mif\u001b[0m \u001b[0mtype\u001b[0m\u001b[0;34m(\u001b[0m\u001b[0mpath\u001b[0m\u001b[0;34m)\u001b[0m \u001b[0;34m==\u001b[0m \u001b[0mlist\u001b[0m\u001b[0;34m:\u001b[0m\u001b[0;34m\u001b[0m\u001b[0;34m\u001b[0m\u001b[0m\n\u001b[1;32m    534\u001b[0m             \u001b[0;32massert\u001b[0m \u001b[0mself\u001b[0m\u001b[0;34m.\u001b[0m\u001b[0m_spark\u001b[0m\u001b[0;34m.\u001b[0m\u001b[0m_sc\u001b[0m\u001b[0;34m.\u001b[0m\u001b[0m_jvm\u001b[0m \u001b[0;32mis\u001b[0m \u001b[0;32mnot\u001b[0m \u001b[0;32mNone\u001b[0m\u001b[0;34m\u001b[0m\u001b[0;34m\u001b[0m\u001b[0m\n\u001b[0;32m--> 535\u001b[0;31m             \u001b[0;32mreturn\u001b[0m \u001b[0mself\u001b[0m\u001b[0;34m.\u001b[0m\u001b[0m_df\u001b[0m\u001b[0;34m(\u001b[0m\u001b[0mself\u001b[0m\u001b[0;34m.\u001b[0m\u001b[0m_jreader\u001b[0m\u001b[0;34m.\u001b[0m\u001b[0mcsv\u001b[0m\u001b[0;34m(\u001b[0m\u001b[0mself\u001b[0m\u001b[0;34m.\u001b[0m\u001b[0m_spark\u001b[0m\u001b[0;34m.\u001b[0m\u001b[0m_sc\u001b[0m\u001b[0;34m.\u001b[0m\u001b[0m_jvm\u001b[0m\u001b[0;34m.\u001b[0m\u001b[0mPythonUtils\u001b[0m\u001b[0;34m.\u001b[0m\u001b[0mtoSeq\u001b[0m\u001b[0;34m(\u001b[0m\u001b[0mpath\u001b[0m\u001b[0;34m)\u001b[0m\u001b[0;34m)\u001b[0m\u001b[0;34m)\u001b[0m\u001b[0;34m\u001b[0m\u001b[0;34m\u001b[0m\u001b[0m\n\u001b[0m\u001b[1;32m    536\u001b[0m         \u001b[0;32melif\u001b[0m \u001b[0misinstance\u001b[0m\u001b[0;34m(\u001b[0m\u001b[0mpath\u001b[0m\u001b[0;34m,\u001b[0m \u001b[0mRDD\u001b[0m\u001b[0;34m)\u001b[0m\u001b[0;34m:\u001b[0m\u001b[0;34m\u001b[0m\u001b[0;34m\u001b[0m\u001b[0m\n\u001b[1;32m    537\u001b[0m \u001b[0;34m\u001b[0m\u001b[0m\n",
            "\u001b[0;32m/content/spark-3.3.0-bin-hadoop3/python/lib/py4j-0.10.9.5-src.zip/py4j/java_gateway.py\u001b[0m in \u001b[0;36m__call__\u001b[0;34m(self, *args)\u001b[0m\n\u001b[1;32m   1319\u001b[0m \u001b[0;34m\u001b[0m\u001b[0m\n\u001b[1;32m   1320\u001b[0m         \u001b[0manswer\u001b[0m \u001b[0;34m=\u001b[0m \u001b[0mself\u001b[0m\u001b[0;34m.\u001b[0m\u001b[0mgateway_client\u001b[0m\u001b[0;34m.\u001b[0m\u001b[0msend_command\u001b[0m\u001b[0;34m(\u001b[0m\u001b[0mcommand\u001b[0m\u001b[0;34m)\u001b[0m\u001b[0;34m\u001b[0m\u001b[0;34m\u001b[0m\u001b[0m\n\u001b[0;32m-> 1321\u001b[0;31m         return_value = get_return_value(\n\u001b[0m\u001b[1;32m   1322\u001b[0m             answer, self.gateway_client, self.target_id, self.name)\n\u001b[1;32m   1323\u001b[0m \u001b[0;34m\u001b[0m\u001b[0m\n",
            "\u001b[0;32m/content/spark-3.3.0-bin-hadoop3/python/pyspark/sql/utils.py\u001b[0m in \u001b[0;36mdeco\u001b[0;34m(*a, **kw)\u001b[0m\n\u001b[1;32m    194\u001b[0m                 \u001b[0;31m# Hide where the exception came from that shows a non-Pythonic\u001b[0m\u001b[0;34m\u001b[0m\u001b[0;34m\u001b[0m\u001b[0m\n\u001b[1;32m    195\u001b[0m                 \u001b[0;31m# JVM exception message.\u001b[0m\u001b[0;34m\u001b[0m\u001b[0;34m\u001b[0m\u001b[0m\n\u001b[0;32m--> 196\u001b[0;31m                 \u001b[0;32mraise\u001b[0m \u001b[0mconverted\u001b[0m \u001b[0;32mfrom\u001b[0m \u001b[0;32mNone\u001b[0m\u001b[0;34m\u001b[0m\u001b[0;34m\u001b[0m\u001b[0m\n\u001b[0m\u001b[1;32m    197\u001b[0m             \u001b[0;32melse\u001b[0m\u001b[0;34m:\u001b[0m\u001b[0;34m\u001b[0m\u001b[0;34m\u001b[0m\u001b[0m\n\u001b[1;32m    198\u001b[0m                 \u001b[0;32mraise\u001b[0m\u001b[0;34m\u001b[0m\u001b[0;34m\u001b[0m\u001b[0m\n",
            "\u001b[0;31mAnalysisException\u001b[0m: Path does not exist: file:/content/country-list.csv"
          ]
        }
      ]
    },
    {
      "cell_type": "markdown",
      "source": [
        "##### Столицы, с самыми популярными хештегами в топ 10 хештегов"
      ],
      "metadata": {
        "id": "vq5XRsQN6Mw3"
      }
    },
    {
      "cell_type": "code",
      "source": [
        "new_df = new_df\\\n",
        ".filter(col('capital').isNotNull())\\\n",
        ".drop(col('capital'))\\\n",
        ".join(top10CapitalsDf, top10CapitalsDf.capital == new_df.Place, \"leftouter\")\n",
        "\n",
        "capitalhashTagDf = new_df.rdd\\\n",
        ".filter(lambda x: x['capital'] != None) \\\n",
        ".filter(lambda x: x['Hashtags'] != None) \\\n",
        ".flatMap(lambda x: [(x['capital'], hashtag) for hashtag in x['Hashtags'].split(',')])\\\n",
        ".toDF()\\\n",
        ".filter(col('_2') != 'WorldCup')\n",
        "\n",
        "countedCapitalHashTag = capitalhashTagDf.groupBy('_1', '_2').count()\n",
        "\n",
        "counted = countedCapitalHashTag\\\n",
        ".groupBy('_1')\\\n",
        ".agg(F.max('count').alias('num_of_hashtags'))\\\n",
        ".withColumnRenamed(\"_1\", \"capital\")\n",
        "\n",
        "join_conditions = [countedCapitalHashTag['_1'] == counted['capital'], countedCapitalHashTag['count'] == counted['num_of_hashtags']]\n",
        "topCapitalsHashTag = counted \\\n",
        ".join(countedCapitalHashTag, join_conditions) \\\n",
        ".filter(col('num_of_hashtags').isNotNull()) \\\n",
        ".drop(col('_1')) \\\n",
        ".drop(col('count'))\n",
        "\n",
        "topCapitalsHashtagsWhichPopular = topCapitalsHashTag \\\n",
        ".join(top10HashtagsDf, \\\n",
        "    top10HashtagsDf['hashTag'] == topCapitalsHashTag['_2']) \\\n",
        ".filter(col('hashTag').isNotNull()) \\\n",
        ".drop(col('count')) \\\n",
        ".drop(col('_2'))\n",
        "\n",
        "print('Столицы, у которых самый популярный хэштег относится к 10 самым популярным хэштегам в целом')\n",
        "topCapitalsHashtagsWhichPopular.show()"
      ],
      "metadata": {
        "id": "QX65u2tJnky0"
      },
      "execution_count": null,
      "outputs": []
    }
  ]
}